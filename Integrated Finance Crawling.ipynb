{
 "cells": [
  {
   "cell_type": "markdown",
   "metadata": {},
   "source": [
    "1. 이미 가지고 있는 데이터를 다시 받을 필요는 없다.\n",
    "2. 어느 구간까지의 데이터를 가지고 있는 지 관리해야한다.\n",
    "3. 어떤 데이터들을 받을 건지 관리해야한다. \n",
    "\n",
    "Name|Symbol|From|To\n",
    "---|---|---|---\n",
    "삼성전자|005930.KS|2010.01.01|2019.05.14\n",
    "TIGER레버리지|123320.KS|-|-\n",
    "\n",
    "이런 형태로 csv를 유지하고 이 양식을 사용해서 yahoo finance 에서 데이터를 받는  루틴을 구현하자.\n"
   ]
  },
  {
   "cell_type": "markdown",
   "metadata": {},
   "source": [
    "## 1. DataFrame 생성 및 읽기"
   ]
  },
  {
   "cell_type": "code",
   "execution_count": 53,
   "metadata": {
    "scrolled": true
   },
   "outputs": [],
   "source": [
    "import pandas as pd\n",
    "import datetime as dt\n",
    "\n",
    "import os.path\n",
    "\n",
    "initial_time = dt.datetime(2010,2, 1).strftime(\"%Y-%m-%d\")"
   ]
  },
  {
   "cell_type": "code",
   "execution_count": 78,
   "metadata": {},
   "outputs": [
    {
     "data": {
      "text/html": [
       "<div>\n",
       "<style scoped>\n",
       "    .dataframe tbody tr th:only-of-type {\n",
       "        vertical-align: middle;\n",
       "    }\n",
       "\n",
       "    .dataframe tbody tr th {\n",
       "        vertical-align: top;\n",
       "    }\n",
       "\n",
       "    .dataframe thead th {\n",
       "        text-align: right;\n",
       "    }\n",
       "</style>\n",
       "<table border=\"1\" class=\"dataframe\">\n",
       "  <thead>\n",
       "    <tr style=\"text-align: right;\">\n",
       "      <th></th>\n",
       "      <th>Symbol</th>\n",
       "      <th>From</th>\n",
       "      <th>To</th>\n",
       "    </tr>\n",
       "    <tr>\n",
       "      <th>Name</th>\n",
       "      <th></th>\n",
       "      <th></th>\n",
       "      <th></th>\n",
       "    </tr>\n",
       "  </thead>\n",
       "  <tbody>\n",
       "  </tbody>\n",
       "</table>\n",
       "</div>"
      ],
      "text/plain": [
       "Empty DataFrame\n",
       "Columns: [Symbol, From, To]\n",
       "Index: []"
      ]
     },
     "execution_count": 78,
     "metadata": {},
     "output_type": "execute_result"
    }
   ],
   "source": [
    "df = pd.DataFrame\n",
    "\n",
    "csv_name = 'symbol_list.csv'\n",
    "\n",
    "if(os.path.isfile(csv_name)):\n",
    "    df = pd.read_csv(csv_name,index_col='Name')\n",
    "else :\n",
    "    df = pd.DataFrame(columns=['Name','Symbol','From','To'])\n",
    "    df.set_index('Name',inplace=True)\n",
    "    df.to_csv(csv_name)\n",
    "df.head()"
   ]
  },
  {
   "cell_type": "markdown",
   "metadata": {},
   "source": [
    "## 2. 심볼 추가\n",
    "---\n",
    "\n",
    "이건 그냥 명시적으로 추가하는게 좋을듯. 전체 기업들을 다 긁어올 것은 아니니까"
   ]
  },
  {
   "cell_type": "code",
   "execution_count": 79,
   "metadata": {},
   "outputs": [],
   "source": [
    "def add_symbol(df, name ,symbol):\n",
    "    if(not name in df.index):\n",
    "        initial_time = dt.datetime(2010,1, 1).strftime(\"%Y-%m-%d\")\n",
    "        df.loc[name] = [symbol,initial_time,initial_time]\n",
    "        print('ADD : ' + name)\n",
    "    else :\n",
    "        print('DUP : ' + name)\n",
    "    #print(df.loc[name])"
   ]
  },
  {
   "cell_type": "code",
   "execution_count": 80,
   "metadata": {},
   "outputs": [
    {
     "name": "stdout",
     "output_type": "stream",
     "text": [
      "ADD : LG Electronics Inc\n",
      "ADD : International Business Machines Corporation\n",
      "ADD : Samsung Electronics Co., Ltd\n",
      "ADD : Tesla, Inc.\n",
      "ADD : Apple Inc.\n",
      "ADD : Microsoft Corporation\n",
      "ADD : Oracle Corporation\n",
      "ADD : SK hynix, Inc.\n",
      "ADD : NAVER Corporation\n",
      "ADD : Amazon.com, Inc.\n"
     ]
    },
    {
     "data": {
      "text/html": [
       "<div>\n",
       "<style scoped>\n",
       "    .dataframe tbody tr th:only-of-type {\n",
       "        vertical-align: middle;\n",
       "    }\n",
       "\n",
       "    .dataframe tbody tr th {\n",
       "        vertical-align: top;\n",
       "    }\n",
       "\n",
       "    .dataframe thead th {\n",
       "        text-align: right;\n",
       "    }\n",
       "</style>\n",
       "<table border=\"1\" class=\"dataframe\">\n",
       "  <thead>\n",
       "    <tr style=\"text-align: right;\">\n",
       "      <th></th>\n",
       "      <th>Symbol</th>\n",
       "      <th>From</th>\n",
       "      <th>To</th>\n",
       "    </tr>\n",
       "    <tr>\n",
       "      <th>Name</th>\n",
       "      <th></th>\n",
       "      <th></th>\n",
       "      <th></th>\n",
       "    </tr>\n",
       "  </thead>\n",
       "  <tbody>\n",
       "    <tr>\n",
       "      <th>LG Electronics Inc</th>\n",
       "      <td>066570.KS</td>\n",
       "      <td>2010-01-01</td>\n",
       "      <td>2010-01-01</td>\n",
       "    </tr>\n",
       "    <tr>\n",
       "      <th>International Business Machines Corporation</th>\n",
       "      <td>IBM</td>\n",
       "      <td>2010-01-01</td>\n",
       "      <td>2010-01-01</td>\n",
       "    </tr>\n",
       "    <tr>\n",
       "      <th>Samsung Electronics Co., Ltd</th>\n",
       "      <td>005930.KS</td>\n",
       "      <td>2010-01-01</td>\n",
       "      <td>2010-01-01</td>\n",
       "    </tr>\n",
       "    <tr>\n",
       "      <th>Tesla, Inc.</th>\n",
       "      <td>TSLA</td>\n",
       "      <td>2010-01-01</td>\n",
       "      <td>2010-01-01</td>\n",
       "    </tr>\n",
       "    <tr>\n",
       "      <th>Apple Inc.</th>\n",
       "      <td>AAPL</td>\n",
       "      <td>2010-01-01</td>\n",
       "      <td>2010-01-01</td>\n",
       "    </tr>\n",
       "  </tbody>\n",
       "</table>\n",
       "</div>"
      ],
      "text/plain": [
       "                                                Symbol        From          To\n",
       "Name                                                                          \n",
       "LG Electronics Inc                           066570.KS  2010-01-01  2010-01-01\n",
       "International Business Machines Corporation        IBM  2010-01-01  2010-01-01\n",
       "Samsung Electronics Co., Ltd                 005930.KS  2010-01-01  2010-01-01\n",
       "Tesla, Inc.                                       TSLA  2010-01-01  2010-01-01\n",
       "Apple Inc.                                        AAPL  2010-01-01  2010-01-01"
      ]
     },
     "execution_count": 80,
     "metadata": {},
     "output_type": "execute_result"
    }
   ],
   "source": [
    "symbol_list = {\n",
    "     # 미국 IT 기업\n",
    "    'Apple Inc.':'AAPL' ,\n",
    "    'Microsoft Corporation':'MSFT',\n",
    "    'International Business Machines Corporation':'IBM',\n",
    "    'Oracle Corporation':'ORCL',\n",
    "    'Amazon.com, Inc.':'AMZN',\n",
    "    'Tesla, Inc.':'TSLA',\n",
    "    # 한국 IT 기업\n",
    "     'Samsung Electronics Co., Ltd':'005930.KS',\n",
    "     'SK hynix, Inc.':'000660.KS',\n",
    "    'LG Electronics Inc':'066570.KS',\n",
    "    'NAVER Corporation':'035420.KS'\n",
    "    \n",
    "    \n",
    "        \n",
    "}\n",
    "for k in symbol_list:\n",
    "    add_symbol(df,k,symbol_list[k]) \n",
    "    \n",
    "df.to_csv(csv_name)\n",
    "df.head()"
   ]
  }
 ],
 "metadata": {
  "kernelspec": {
   "display_name": "Python 3",
   "language": "python",
   "name": "python3"
  },
  "language_info": {
   "codemirror_mode": {
    "name": "ipython",
    "version": 3
   },
   "file_extension": ".py",
   "mimetype": "text/x-python",
   "name": "python",
   "nbconvert_exporter": "python",
   "pygments_lexer": "ipython3",
   "version": "3.5.2"
  }
 },
 "nbformat": 4,
 "nbformat_minor": 2
}
