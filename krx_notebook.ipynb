{
 "cells": [
  {
   "cell_type": "markdown",
   "metadata": {},
   "source": [
    "### 거래소(KRX) 개별종목 일자별 시세 크롤링\n",
    "https://woosa7.github.io/krx_dailyprice/"
   ]
  },
  {
   "cell_type": "markdown",
   "metadata": {},
   "source": [
    "### 잘안됨 \n",
    "받아오는 값이 다 비어있다."
   ]
  },
  {
   "cell_type": "code",
   "execution_count": 115,
   "metadata": {},
   "outputs": [],
   "source": [
    "import pandas as pd\n",
    "import numpy as np\n",
    "import requests\n",
    "from io import BytesIO\n",
    "from datetime import datetime, timedelta"
   ]
  },
  {
   "cell_type": "code",
   "execution_count": 116,
   "metadata": {},
   "outputs": [],
   "source": [
    "def get_daily_price(code, fromdate=None, todate=None):\n",
    "    if todate == None:\n",
    "        todate = datetime.today().strftime('%Y%m%d')   # 오늘 날짜\n",
    "    display(todate)\n",
    "    if fromdate == None:\n",
    "        fromdate = (datetime.today() - timedelta(days=30)).strftime('%Y%m%d')   # 30일 이전 날짜\n",
    "    display(fromdate)\n",
    "    # STEP 01: Generate OTP\n",
    "    gen_otp_url = \"http://marketdata.krx.co.kr/contents/COM/GenerateOTP.jspx\"\n",
    "    gen_otp_data = {\n",
    "        'name':'fileDown',\n",
    "        'filetype':'csv',\n",
    "        'url':'MKD/04/0402/04020100/mkd04020100t3_02',\n",
    "        'isu_cd':code,\n",
    "        'fromdate':fromdate,\n",
    "        'todate':todate,\n",
    "    }    \n",
    "    r = requests.post(gen_otp_url, gen_otp_data)\n",
    "    display(r)\n",
    "    code = r.content  # 리턴받은 값을 아래 요청의 입력으로 사용.\n",
    "    display(code)    \n",
    "    # STEP 02: download\n",
    "    down_url = 'http://file.krx.co.kr/download.jspx'\n",
    "    down_data = {\n",
    "        'code': code,\n",
    "    }    \n",
    "    r = requests.post(down_url, down_data)\n",
    "    display(r.content)\n",
    "    #r.encoding = \"utf-8-sig\"\n",
    "    #df = pd.read_csv(BytesIO(r.content), header=0, thousands=',')\n",
    "    #return df"
   ]
  },
  {
   "cell_type": "code",
   "execution_count": 118,
   "metadata": {},
   "outputs": [
    {
     "data": {
      "text/plain": [
       "'20190511'"
      ]
     },
     "metadata": {},
     "output_type": "display_data"
    },
    {
     "data": {
      "text/plain": [
       "'20190411'"
      ]
     },
     "metadata": {},
     "output_type": "display_data"
    },
    {
     "data": {
      "text/plain": [
       "<Response [200]>"
      ]
     },
     "metadata": {},
     "output_type": "display_data"
    },
    {
     "data": {
      "text/plain": [
       "b'MpElbg1C6gXac5+Sk6Fs/49X0dPqA9/mcGZGgUdt8UCQclRYCBeRo+uKaiO/svyVjqaKLSw6xjgD8mHAsEQ2CqrqUevNyjbTodou4MrufJE0cSlg1H+aIFBSGnlJK9u++FHDipYs2ImKmusqTdEN3mAhDG7rGAgfDtAHvGlRSPk0zSN+VoGiH0SYW+kC+o0L3sKD/1POqcuXDfsrTK3fYANrZS/Og6a4cF9R/pPed2/gRDLwR0pqv0T9RgsJp35E'"
      ]
     },
     "metadata": {},
     "output_type": "display_data"
    },
    {
     "data": {
      "text/plain": [
       "b''"
      ]
     },
     "metadata": {},
     "output_type": "display_data"
    }
   ],
   "source": [
    "df = get_daily_price('KR7035420009')\n",
    "df\n",
    "#df.head()"
   ]
  },
  {
   "cell_type": "code",
   "execution_count": 38,
   "metadata": {},
   "outputs": [],
   "source": [
    "\n",
    "def getStockInfo():\n",
    "    gen_otp_url = \"http://marketdata.krx.co.kr/contents/COM/GenerateOTP.jspx\"\n",
    "    gen_otp_data = {\n",
    "        'name': 'fileDown',\n",
    "        'filetype': 'csv',\n",
    "        'url': 'MKD/04/0406/04060100/mkd04060100_01',\n",
    "        'market_gubun': 'ALL',\n",
    "        'isu_cdnm': '전체',\n",
    "        'isu_cd': '',\n",
    "        'isu_nm': '',\n",
    "        'isu_srt_cd': '',\n",
    "        'sort_type': 'A',\n",
    "        'std_ind_cd': '01',\n",
    "        'par_pr': '',\n",
    "        'cpta_scl': '',\n",
    "        'sttl_trm': '',\n",
    "        'lst_stk_vl': '1',\n",
    "        'in_lst_stk_vl': '',\n",
    "        'in_lst_stk_vl2': '',\n",
    "        'cpt': '1',\n",
    "        'in_cpt': '',\n",
    "        'in_cpt2': '',\n",
    "        'isu_cdnm': '전체',\n",
    "        'isu_cd': '',\n",
    "        'mktpartc_no': '',\n",
    "        'isu_srt_cd': '',\n",
    "        'pagePath': '/contents/MKD/04/0406/04060100/MKD04060100.jsp',\n",
    "    }\n",
    "\n",
    "    r = requests.post(gen_otp_url, gen_otp_data)\n",
    "    code = r.content\n",
    "    display(code)\n",
    "    down_url = 'http://file.krx.co.kr/download.jspx'\n",
    "    down_data = {\n",
    "        'code': code,\n",
    "    }\n",
    "    r = requests.post(down_url, down_data)\n",
    "    display(r.status_code)\n",
    "    display(r.headers['content-type'])\n",
    "    display(r.encoding)\n",
    "    display(r.text)\n",
    "   #r.encoding = \"utf-8-sig\"\n",
    "    display(r.content)\n"
   ]
  },
  {
   "cell_type": "code",
   "execution_count": null,
   "metadata": {},
   "outputs": [],
   "source": [
    "getStockInfo()"
   ]
  },
  {
   "cell_type": "markdown",
   "metadata": {},
   "source": [
    "#### 실제 쿼리의 정보\n",
    "```\n",
    "name: fileDown\n",
    "filetype: csv\n",
    "url: MKD/04/0402/04020100/mkd04020100t3_02\n",
    "isu_cdnm: A005930/삼성전자\n",
    "isu_cd: KR7005930003\n",
    "isu_nm: 삼성전자\n",
    "isu_srt_cd: A005930\n",
    "fromdate: 20190503\n",
    "todate: 20190510\n",
    "pagePath: /contents/MKD/04/0402/04020100/MKD04020100T3T2.jsp\n",
    "```"
   ]
  },
  {
   "cell_type": "code",
   "execution_count": 113,
   "metadata": {},
   "outputs": [],
   "source": [
    "\n",
    "def getSamsung():\n",
    "    gen_otp_url = \"http://marketdata.krx.co.kr/contents/COM/GenerateOTP.jspx\"\n",
    "    gen_otp_data = {\n",
    "        'name': 'fileDown',\n",
    "        'filetype': 'csv',\n",
    "        'url': 'MKD/04/0402/04020100/mkd04020100t3_02',\n",
    "        'isu_cdnm':'A005930/삼성전자', #A005930/삼성전자 # A005930%2F%EC%82%BC%EC%84%B1%EC%A0%84%EC%9E%90\n",
    "        'isu_cd':'KR7005930003',\n",
    "        'isu_nm':'삼성전자', #삼성전자# %EC%82%BC%EC%84%B1%EC%A0%84%EC%9E%90\n",
    "        'isu_srt_cd':'A005930',\n",
    "        'fromdate':'20190503',\n",
    "        'todate':'20190510',\n",
    "        'pagePath':'/contents/MKD/04/0402/04020100/MKD04020100T3T2.jsp'\n",
    "        # /contents/MKD/04/0402/04020100/MKD04020100T3T2.jsp\n",
    "        #  %2Fcontents%2FMKD%2F04%2F0402%2F04020100%2FMKD04020100T3T2.jsp\n",
    "    }\n",
    "    r = requests.get(gen_otp_url, gen_otp_data)\n",
    "    code = r.content\n",
    "    display('code : '  + str(code))\n",
    "    down_url = 'http://file.krx.co.kr/download.jspx'\n",
    "    down_data = {\n",
    "        'code': code,\n",
    "    }\n",
    "    r = requests.post(down_url, down_data)\n",
    "    display(r.status_code)\n",
    "    display(r.headers['content-type'])\n",
    "    display(r.encoding)\n",
    "    display(r.text)\n",
    "    display(r.url)\n",
    "    df = pd.read_csv(BytesIO(r.content), header=0, thousands=',')\n",
    "   #r.encoding = \"utf-8-sig\"\n",
    "    display(r.content)"
   ]
  },
  {
   "cell_type": "code",
   "execution_count": 114,
   "metadata": {
    "scrolled": true
   },
   "outputs": [
    {
     "data": {
      "text/plain": [
       "\"code : b'MpElbg1C6gXac5+Sk6Fs/7PLDhi3CSaPpjw4lFi2ZJmqsEXA4vKRHj4EolFIuxxTbKoNEDFkZzGNizviMeMsWGoKYsuvlkfV1zo6jGk5EHJaFiDtSc1BgkX0BnFlTAqu/UAj2K6WfD8xHkEXk+wBLVfw/V3qQn92jNl6wec8YnFqsdX4THRrVx9c4qZbpMN83xT8jo7l+iZhaVOICdw83flekE4cTW0IMecFOGA8Wug9i2fw8LQ5G3mrm+2PZMF8it21QFo4jobdfI7zstJyYHnwGkMpsJ5mlJ06F1zt/OKzI/zcaEH+USNzt43V46CMoVvcfnIW1sS7z73xqEKggpAuEmUl7MpXgX1x+WhWkCOSCOaY60zyhkG0OFQpQr0Thwe4GvEflLwWtaVqCmPO7P5Q+w6IPrLcJ4LS3pmH9qJqGXwMjxLlk73PfdWvtm4o3KO94LJol1GyD5B3lI1mgQ=='\""
      ]
     },
     "metadata": {},
     "output_type": "display_data"
    },
    {
     "data": {
      "text/plain": [
       "200"
      ]
     },
     "metadata": {},
     "output_type": "display_data"
    },
    {
     "data": {
      "text/plain": [
       "'text/html;charset=UTF-8'"
      ]
     },
     "metadata": {},
     "output_type": "display_data"
    },
    {
     "data": {
      "text/plain": [
       "'UTF-8'"
      ]
     },
     "metadata": {},
     "output_type": "display_data"
    },
    {
     "data": {
      "text/plain": [
       "''"
      ]
     },
     "metadata": {},
     "output_type": "display_data"
    },
    {
     "data": {
      "text/plain": [
       "'http://file.krx.co.kr/download.jspx'"
      ]
     },
     "metadata": {},
     "output_type": "display_data"
    },
    {
     "ename": "EmptyDataError",
     "evalue": "No columns to parse from file",
     "output_type": "error",
     "traceback": [
      "\u001b[0;31m---------------------------------------------------------------------------\u001b[0m",
      "\u001b[0;31mEmptyDataError\u001b[0m                            Traceback (most recent call last)",
      "\u001b[0;32m<ipython-input-114-a4461fc0c308>\u001b[0m in \u001b[0;36m<module>\u001b[0;34m\u001b[0m\n\u001b[0;32m----> 1\u001b[0;31m \u001b[0mgetSamsung\u001b[0m\u001b[0;34m(\u001b[0m\u001b[0;34m)\u001b[0m\u001b[0;34m\u001b[0m\u001b[0m\n\u001b[0m",
      "\u001b[0;32m<ipython-input-113-33f9c97cf8f3>\u001b[0m in \u001b[0;36mgetSamsung\u001b[0;34m()\u001b[0m\n\u001b[1;32m     29\u001b[0m     \u001b[0mdisplay\u001b[0m\u001b[0;34m(\u001b[0m\u001b[0mr\u001b[0m\u001b[0;34m.\u001b[0m\u001b[0mtext\u001b[0m\u001b[0;34m)\u001b[0m\u001b[0;34m\u001b[0m\u001b[0m\n\u001b[1;32m     30\u001b[0m     \u001b[0mdisplay\u001b[0m\u001b[0;34m(\u001b[0m\u001b[0mr\u001b[0m\u001b[0;34m.\u001b[0m\u001b[0murl\u001b[0m\u001b[0;34m)\u001b[0m\u001b[0;34m\u001b[0m\u001b[0m\n\u001b[0;32m---> 31\u001b[0;31m     \u001b[0mdf\u001b[0m \u001b[0;34m=\u001b[0m \u001b[0mpd\u001b[0m\u001b[0;34m.\u001b[0m\u001b[0mread_csv\u001b[0m\u001b[0;34m(\u001b[0m\u001b[0mBytesIO\u001b[0m\u001b[0;34m(\u001b[0m\u001b[0mr\u001b[0m\u001b[0;34m.\u001b[0m\u001b[0mcontent\u001b[0m\u001b[0;34m)\u001b[0m\u001b[0;34m,\u001b[0m \u001b[0mheader\u001b[0m\u001b[0;34m=\u001b[0m\u001b[0;36m0\u001b[0m\u001b[0;34m,\u001b[0m \u001b[0mthousands\u001b[0m\u001b[0;34m=\u001b[0m\u001b[0;34m','\u001b[0m\u001b[0;34m)\u001b[0m\u001b[0;34m\u001b[0m\u001b[0m\n\u001b[0m\u001b[1;32m     32\u001b[0m    \u001b[0;31m#r.encoding = \"utf-8-sig\"\u001b[0m\u001b[0;34m\u001b[0m\u001b[0;34m\u001b[0m\u001b[0m\n\u001b[1;32m     33\u001b[0m     \u001b[0mdisplay\u001b[0m\u001b[0;34m(\u001b[0m\u001b[0mr\u001b[0m\u001b[0;34m.\u001b[0m\u001b[0mcontent\u001b[0m\u001b[0;34m)\u001b[0m\u001b[0;34m\u001b[0m\u001b[0m\n",
      "\u001b[0;32m/usr/local/lib/python3.5/dist-packages/pandas/io/parsers.py\u001b[0m in \u001b[0;36mparser_f\u001b[0;34m(filepath_or_buffer, sep, delimiter, header, names, index_col, usecols, squeeze, prefix, mangle_dupe_cols, dtype, engine, converters, true_values, false_values, skipinitialspace, skiprows, skipfooter, nrows, na_values, keep_default_na, na_filter, verbose, skip_blank_lines, parse_dates, infer_datetime_format, keep_date_col, date_parser, dayfirst, iterator, chunksize, compression, thousands, decimal, lineterminator, quotechar, quoting, doublequote, escapechar, comment, encoding, dialect, tupleize_cols, error_bad_lines, warn_bad_lines, delim_whitespace, low_memory, memory_map, float_precision)\u001b[0m\n\u001b[1;32m    700\u001b[0m                     skip_blank_lines=skip_blank_lines)\n\u001b[1;32m    701\u001b[0m \u001b[0;34m\u001b[0m\u001b[0m\n\u001b[0;32m--> 702\u001b[0;31m         \u001b[0;32mreturn\u001b[0m \u001b[0m_read\u001b[0m\u001b[0;34m(\u001b[0m\u001b[0mfilepath_or_buffer\u001b[0m\u001b[0;34m,\u001b[0m \u001b[0mkwds\u001b[0m\u001b[0;34m)\u001b[0m\u001b[0;34m\u001b[0m\u001b[0m\n\u001b[0m\u001b[1;32m    703\u001b[0m \u001b[0;34m\u001b[0m\u001b[0m\n\u001b[1;32m    704\u001b[0m     \u001b[0mparser_f\u001b[0m\u001b[0;34m.\u001b[0m\u001b[0m__name__\u001b[0m \u001b[0;34m=\u001b[0m \u001b[0mname\u001b[0m\u001b[0;34m\u001b[0m\u001b[0m\n",
      "\u001b[0;32m/usr/local/lib/python3.5/dist-packages/pandas/io/parsers.py\u001b[0m in \u001b[0;36m_read\u001b[0;34m(filepath_or_buffer, kwds)\u001b[0m\n\u001b[1;32m    427\u001b[0m \u001b[0;34m\u001b[0m\u001b[0m\n\u001b[1;32m    428\u001b[0m     \u001b[0;31m# Create the parser.\u001b[0m\u001b[0;34m\u001b[0m\u001b[0;34m\u001b[0m\u001b[0m\n\u001b[0;32m--> 429\u001b[0;31m     \u001b[0mparser\u001b[0m \u001b[0;34m=\u001b[0m \u001b[0mTextFileReader\u001b[0m\u001b[0;34m(\u001b[0m\u001b[0mfilepath_or_buffer\u001b[0m\u001b[0;34m,\u001b[0m \u001b[0;34m**\u001b[0m\u001b[0mkwds\u001b[0m\u001b[0;34m)\u001b[0m\u001b[0;34m\u001b[0m\u001b[0m\n\u001b[0m\u001b[1;32m    430\u001b[0m \u001b[0;34m\u001b[0m\u001b[0m\n\u001b[1;32m    431\u001b[0m     \u001b[0;32mif\u001b[0m \u001b[0mchunksize\u001b[0m \u001b[0;32mor\u001b[0m \u001b[0miterator\u001b[0m\u001b[0;34m:\u001b[0m\u001b[0;34m\u001b[0m\u001b[0m\n",
      "\u001b[0;32m/usr/local/lib/python3.5/dist-packages/pandas/io/parsers.py\u001b[0m in \u001b[0;36m__init__\u001b[0;34m(self, f, engine, **kwds)\u001b[0m\n\u001b[1;32m    893\u001b[0m             \u001b[0mself\u001b[0m\u001b[0;34m.\u001b[0m\u001b[0moptions\u001b[0m\u001b[0;34m[\u001b[0m\u001b[0;34m'has_index_names'\u001b[0m\u001b[0;34m]\u001b[0m \u001b[0;34m=\u001b[0m \u001b[0mkwds\u001b[0m\u001b[0;34m[\u001b[0m\u001b[0;34m'has_index_names'\u001b[0m\u001b[0;34m]\u001b[0m\u001b[0;34m\u001b[0m\u001b[0m\n\u001b[1;32m    894\u001b[0m \u001b[0;34m\u001b[0m\u001b[0m\n\u001b[0;32m--> 895\u001b[0;31m         \u001b[0mself\u001b[0m\u001b[0;34m.\u001b[0m\u001b[0m_make_engine\u001b[0m\u001b[0;34m(\u001b[0m\u001b[0mself\u001b[0m\u001b[0;34m.\u001b[0m\u001b[0mengine\u001b[0m\u001b[0;34m)\u001b[0m\u001b[0;34m\u001b[0m\u001b[0m\n\u001b[0m\u001b[1;32m    896\u001b[0m \u001b[0;34m\u001b[0m\u001b[0m\n\u001b[1;32m    897\u001b[0m     \u001b[0;32mdef\u001b[0m \u001b[0mclose\u001b[0m\u001b[0;34m(\u001b[0m\u001b[0mself\u001b[0m\u001b[0;34m)\u001b[0m\u001b[0;34m:\u001b[0m\u001b[0;34m\u001b[0m\u001b[0m\n",
      "\u001b[0;32m/usr/local/lib/python3.5/dist-packages/pandas/io/parsers.py\u001b[0m in \u001b[0;36m_make_engine\u001b[0;34m(self, engine)\u001b[0m\n\u001b[1;32m   1120\u001b[0m     \u001b[0;32mdef\u001b[0m \u001b[0m_make_engine\u001b[0m\u001b[0;34m(\u001b[0m\u001b[0mself\u001b[0m\u001b[0;34m,\u001b[0m \u001b[0mengine\u001b[0m\u001b[0;34m=\u001b[0m\u001b[0;34m'c'\u001b[0m\u001b[0;34m)\u001b[0m\u001b[0;34m:\u001b[0m\u001b[0;34m\u001b[0m\u001b[0m\n\u001b[1;32m   1121\u001b[0m         \u001b[0;32mif\u001b[0m \u001b[0mengine\u001b[0m \u001b[0;34m==\u001b[0m \u001b[0;34m'c'\u001b[0m\u001b[0;34m:\u001b[0m\u001b[0;34m\u001b[0m\u001b[0m\n\u001b[0;32m-> 1122\u001b[0;31m             \u001b[0mself\u001b[0m\u001b[0;34m.\u001b[0m\u001b[0m_engine\u001b[0m \u001b[0;34m=\u001b[0m \u001b[0mCParserWrapper\u001b[0m\u001b[0;34m(\u001b[0m\u001b[0mself\u001b[0m\u001b[0;34m.\u001b[0m\u001b[0mf\u001b[0m\u001b[0;34m,\u001b[0m \u001b[0;34m**\u001b[0m\u001b[0mself\u001b[0m\u001b[0;34m.\u001b[0m\u001b[0moptions\u001b[0m\u001b[0;34m)\u001b[0m\u001b[0;34m\u001b[0m\u001b[0m\n\u001b[0m\u001b[1;32m   1123\u001b[0m         \u001b[0;32melse\u001b[0m\u001b[0;34m:\u001b[0m\u001b[0;34m\u001b[0m\u001b[0m\n\u001b[1;32m   1124\u001b[0m             \u001b[0;32mif\u001b[0m \u001b[0mengine\u001b[0m \u001b[0;34m==\u001b[0m \u001b[0;34m'python'\u001b[0m\u001b[0;34m:\u001b[0m\u001b[0;34m\u001b[0m\u001b[0m\n",
      "\u001b[0;32m/usr/local/lib/python3.5/dist-packages/pandas/io/parsers.py\u001b[0m in \u001b[0;36m__init__\u001b[0;34m(self, src, **kwds)\u001b[0m\n\u001b[1;32m   1851\u001b[0m         \u001b[0mkwds\u001b[0m\u001b[0;34m[\u001b[0m\u001b[0;34m'usecols'\u001b[0m\u001b[0;34m]\u001b[0m \u001b[0;34m=\u001b[0m \u001b[0mself\u001b[0m\u001b[0;34m.\u001b[0m\u001b[0musecols\u001b[0m\u001b[0;34m\u001b[0m\u001b[0m\n\u001b[1;32m   1852\u001b[0m \u001b[0;34m\u001b[0m\u001b[0m\n\u001b[0;32m-> 1853\u001b[0;31m         \u001b[0mself\u001b[0m\u001b[0;34m.\u001b[0m\u001b[0m_reader\u001b[0m \u001b[0;34m=\u001b[0m \u001b[0mparsers\u001b[0m\u001b[0;34m.\u001b[0m\u001b[0mTextReader\u001b[0m\u001b[0;34m(\u001b[0m\u001b[0msrc\u001b[0m\u001b[0;34m,\u001b[0m \u001b[0;34m**\u001b[0m\u001b[0mkwds\u001b[0m\u001b[0;34m)\u001b[0m\u001b[0;34m\u001b[0m\u001b[0m\n\u001b[0m\u001b[1;32m   1854\u001b[0m         \u001b[0mself\u001b[0m\u001b[0;34m.\u001b[0m\u001b[0munnamed_cols\u001b[0m \u001b[0;34m=\u001b[0m \u001b[0mself\u001b[0m\u001b[0;34m.\u001b[0m\u001b[0m_reader\u001b[0m\u001b[0;34m.\u001b[0m\u001b[0munnamed_cols\u001b[0m\u001b[0;34m\u001b[0m\u001b[0m\n\u001b[1;32m   1855\u001b[0m \u001b[0;34m\u001b[0m\u001b[0m\n",
      "\u001b[0;32mpandas/_libs/parsers.pyx\u001b[0m in \u001b[0;36mpandas._libs.parsers.TextReader.__cinit__\u001b[0;34m()\u001b[0m\n",
      "\u001b[0;31mEmptyDataError\u001b[0m: No columns to parse from file"
     ]
    }
   ],
   "source": [
    "getSamsung()"
   ]
  },
  {
   "cell_type": "code",
   "execution_count": 129,
   "metadata": {},
   "outputs": [],
   "source": [
    "def getKospi():\n",
    "    gen_otp_url = \"http://marketdata.krx.co.kr/contents/COM/GenerateOTP.jspx\"\n",
    "    gen_otp_data = {\n",
    "                  \"name\":\"filedown\",\n",
    "                  \"filetype\"  : \"csv\",\n",
    "                  \"url\" : \"MKD/13/1301/13010104/mkd13010104_02\",\n",
    "                  'type' : \"kospi\",\n",
    "                  \"period_selector\" : \"day\",\n",
    "                  \"fromdate\" : \"20080101\",\n",
    "                  \"todate\" : \"20180706\",\n",
    "                  \"pagePath\" : \"/contents/MKD/13/1301/13010104/MKD13010104.jsp\"\n",
    "    }\n",
    "    r = requests.post(gen_otp_url, gen_otp_data)\n",
    "    code = r.content\n",
    "    display('code : '  + str(code))\n",
    "    down_url = 'http://file.krx.co.kr/download.jspx'\n",
    "    code = code.decode(\"utf-8\") \n",
    "    down_data = {\n",
    "        'code': code,\n",
    "    }\n",
    "    display(type(code))\n",
    "    display(down_data)\n",
    "    r = requests.post(down_url, down_data)\n",
    "    display(r.status_code)\n",
    "    display(r.headers['content-type'])\n",
    "    display(r.encoding)\n",
    "    display(r.text)\n",
    "    display(r.url)\n",
    "    display(r.headers)\n",
    "    display(r.links)\n",
    "    display(r.json)\n",
    "    display(r.is_redirect)\n",
    "   #r.encoding = \"utf-8-sig\"\n",
    "    display(r.content)\n",
    "    \n",
    "    r2 = requests.get(down_url, allow_redirects=True)\n",
    "    display(r2.content)"
   ]
  },
  {
   "cell_type": "code",
   "execution_count": 130,
   "metadata": {},
   "outputs": [
    {
     "data": {
      "text/plain": [
       "\"code : b'MpElbg1C6gXac5+Sk6Fs/yaZ+J8pDK4P1IuIzqojrNTEMY6s+3eLmE6j8m2J/opcOTfqXMSh+cjPdTBzTGDNIbIZgvpATvG/HwMjUx/RnlRgdFuuQWFvNQeFegMVoObWpxYYbyFjCBOwNuBGo1QeT8XUMAGc9XOJm5ObBIQtE1qISxuTffKiMS+PPmIbjTdV/bpysm4CxN3ZdxbCWMUZHjwJjqTpkb+c2TMFstv4J1TDEuiTd8FDaSfCCrIeE6wUwGninYM+N4cFq4z43sroM5hv1sfwiINwXNb/2d7dPFwAfyLDHUJ2bzHZSywQaIofgTb+NlfsHdrIzrWO2cSW9W6A/hLh5Yct6ZI8WW0hDFk='\""
      ]
     },
     "metadata": {},
     "output_type": "display_data"
    },
    {
     "data": {
      "text/plain": [
       "str"
      ]
     },
     "metadata": {},
     "output_type": "display_data"
    },
    {
     "data": {
      "text/plain": [
       "{'code': 'MpElbg1C6gXac5+Sk6Fs/yaZ+J8pDK4P1IuIzqojrNTEMY6s+3eLmE6j8m2J/opcOTfqXMSh+cjPdTBzTGDNIbIZgvpATvG/HwMjUx/RnlRgdFuuQWFvNQeFegMVoObWpxYYbyFjCBOwNuBGo1QeT8XUMAGc9XOJm5ObBIQtE1qISxuTffKiMS+PPmIbjTdV/bpysm4CxN3ZdxbCWMUZHjwJjqTpkb+c2TMFstv4J1TDEuiTd8FDaSfCCrIeE6wUwGninYM+N4cFq4z43sroM5hv1sfwiINwXNb/2d7dPFwAfyLDHUJ2bzHZSywQaIofgTb+NlfsHdrIzrWO2cSW9W6A/hLh5Yct6ZI8WW0hDFk='}"
      ]
     },
     "metadata": {},
     "output_type": "display_data"
    },
    {
     "data": {
      "text/plain": [
       "200"
      ]
     },
     "metadata": {},
     "output_type": "display_data"
    },
    {
     "data": {
      "text/plain": [
       "'text/html;charset=UTF-8'"
      ]
     },
     "metadata": {},
     "output_type": "display_data"
    },
    {
     "data": {
      "text/plain": [
       "'UTF-8'"
      ]
     },
     "metadata": {},
     "output_type": "display_data"
    },
    {
     "data": {
      "text/plain": [
       "''"
      ]
     },
     "metadata": {},
     "output_type": "display_data"
    },
    {
     "data": {
      "text/plain": [
       "'http://file.krx.co.kr/download.jspx'"
      ]
     },
     "metadata": {},
     "output_type": "display_data"
    },
    {
     "data": {
      "text/plain": [
       "{'Date': 'Sat, 11 May 2019 07:01:46 GMT', 'Content-Length': '0', 'Set-Cookie': 'JSESSIONID=9BACE4C37D524B8ED4A996C6B1AA2D50.57tomcat4; Path=/; HttpOnly', 'Content-Type': 'text/html;charset=UTF-8'}"
      ]
     },
     "metadata": {},
     "output_type": "display_data"
    },
    {
     "data": {
      "text/plain": [
       "{}"
      ]
     },
     "metadata": {},
     "output_type": "display_data"
    },
    {
     "data": {
      "text/plain": [
       "<bound method Response.json of <Response [200]>>"
      ]
     },
     "metadata": {},
     "output_type": "display_data"
    },
    {
     "data": {
      "text/plain": [
       "False"
      ]
     },
     "metadata": {},
     "output_type": "display_data"
    },
    {
     "data": {
      "text/plain": [
       "b''"
      ]
     },
     "metadata": {},
     "output_type": "display_data"
    },
    {
     "data": {
      "text/plain": [
       "b''"
      ]
     },
     "metadata": {},
     "output_type": "display_data"
    }
   ],
   "source": [
    "getKospi()"
   ]
  },
  {
   "cell_type": "code",
   "execution_count": null,
   "metadata": {},
   "outputs": [],
   "source": []
  }
 ],
 "metadata": {
  "kernelspec": {
   "display_name": "Python 3",
   "language": "python",
   "name": "python3"
  },
  "language_info": {
   "codemirror_mode": {
    "name": "ipython",
    "version": 3
   },
   "file_extension": ".py",
   "mimetype": "text/x-python",
   "name": "python",
   "nbconvert_exporter": "python",
   "pygments_lexer": "ipython3",
   "version": "3.5.2"
  }
 },
 "nbformat": 4,
 "nbformat_minor": 2
}
